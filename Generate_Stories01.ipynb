{
  "cells": [
    {
      "cell_type": "markdown",
      "metadata": {
        "id": "view-in-github",
        "colab_type": "text"
      },
      "source": [
        "<a href=\"https://colab.research.google.com/github/Sepaszoee/Generate-Srtories1/blob/main/Generate_Stories01.ipynb\" target=\"_parent\"><img src=\"https://colab.research.google.com/assets/colab-badge.svg\" alt=\"Open In Colab\"/></a>"
      ]
    },
    {
      "cell_type": "markdown",
      "source": [
        "# First Code"
      ],
      "metadata": {
        "id": "oNqgRD8FRerT"
      }
    },
    {
      "cell_type": "code",
      "source": [
        "import random\n",
        "from PIL import Image\n",
        "def generate_story(name, age, city, animal, genre):\n",
        "    # Define possible actions, settings, and obstacles based on genre\n",
        "    if genre == 'adventure':\n",
        "        actions = ['went on an adventure', 'explored a new land', 'faced their fears', 'discovered a hidden treasure']\n",
        "        settings = ['a dense jungle', 'a rugged mountain', 'an uncharted island', 'a wild safari']\n",
        "        obstacles = ['a raging river', 'a dangerous cliff', 'a band of pirates', 'a treacherous storm']\n",
        "    elif genre == 'mystery':\n",
        "        actions = ['solved a mystery', 'unraveled a conspiracy', 'cracked a code', 'unveiled a secret']\n",
        "        settings = ['an old mansion', 'a deserted town', 'a dark alley', 'an abandoned warehouse']\n",
        "        obstacles = ['a locked door', 'a hidden message', 'a suspicious character', 'a dark secret']\n",
        "    elif genre == 'fantasy':\n",
        "        actions = ['went on a magical journey', 'fought a dragon', 'saved a kingdom', 'met a wizard']\n",
        "        settings = ['a mystical forest', 'an enchanted castle', 'a hidden village', 'a magical kingdom']\n",
        "        obstacles = ['a wicked sorcerer', 'an evil curse', 'a mythical beast', 'a dark prophecy']\n",
        "    \n",
        "    # Select a random action, setting, and obstacle\n",
        "    action = random.choice(actions)\n",
        "    setting = random.choice(settings)\n",
        "    obstacle = random.choice(obstacles)\n",
        "    \n",
        "    # Generate the story using the input information and the randomly selected action, setting, and obstacle\n",
        "    story = f\"Once upon a time, there was a young {age}-year-old named {name} who lived in {city}. One day, {name} and their trusty sidekick {animal}, {action} in {setting}. But soon, they discovered {obstacle} blocking their path. With quick thinking and bravery, {name} and {animal} overcame the {obstacle} and continued on their {genre} adventure. In the end, they emerged victorious and returned home as heroes!\"\n",
        "    \n",
        "    # Generate an image based on the setting\n",
        "    image_file = f\"{setting.lower().replace(' ', '_')}.jpg\"\n",
        "    img = Image.open(image_file)\n",
        "    img.show()\n",
        "    \n",
        "    return story\n",
        "   # Ask user for input information visually\n",
        "print(\"Welcome to the Story Generator!\\n\") \n",
        "name = input(\"What is the name of the main character? \")\n",
        "age = input(\"What is the age of the main character? \")\n",
        "city = input(\"In which city does the character live? \")\n",
        "animal = input(\"What is the name of the character's trusty sidekick animal? \")\n",
        "genres = ['adventure', 'mystery', 'fantasy']\n",
        "print(\"Please select a genre for the story:\")\n",
        "for i, genre in enumerate(genres):\n",
        "    print(f\"{i+1}. {genre}\")\n",
        "genre_choice = int(input())\n",
        "genre = genres[genre_choice-1]\n",
        "\n",
        "   # Generate and print the story using the input information\n",
        "story = generate_story(name, age, city, animal, genre)\n",
        "print(\"\\nHere is your story:\\n\")\n",
        "print(story)\n"
      ],
      "metadata": {
        "id": "CP94WEZmRjy0"
      },
      "execution_count": null,
      "outputs": []
    },
    {
      "cell_type": "code",
      "source": [
        "from google.colab import drive\n",
        "drive.mount('/content/drive')"
      ],
      "metadata": {
        "id": "zcy4GM9nYxvZ",
        "colab": {
          "base_uri": "https://localhost:8080/"
        },
        "outputId": "b5bec0e4-9655-4799-ac14-44ee370e5195"
      },
      "execution_count": 1,
      "outputs": [
        {
          "output_type": "stream",
          "name": "stdout",
          "text": [
            "Mounted at /content/drive\n"
          ]
        }
      ]
    },
    {
      "cell_type": "markdown",
      "source": [
        "# Notebook"
      ],
      "metadata": {
        "id": "0q3EFuZn2n5h"
      }
    },
    {
      "cell_type": "markdown",
      "source": [
        "## Utils"
      ],
      "metadata": {
        "id": "0pzjIVLe2rLN"
      }
    },
    {
      "cell_type": "code",
      "source": [
        "import random\n",
        "from PIL import Image\n",
        "\n",
        "def generate_story(name, age, city, animal, genre):\n",
        "    # Define possible actions, settings, and obstacles based on genre\n",
        "    if genre == 'adventure':\n",
        "        actions = ['went on an adventure', 'explored a new land', 'faced their fears', 'discovered a hidden treasure']\n",
        "        settings = ['a dense jungle', 'a rugged mountain', 'an uncharted island', 'a wild safari']\n",
        "        obstacles = ['a raging river', 'a dangerous cliff', 'a band of pirates', 'a treacherous storm']\n",
        "    elif genre == 'mystery':\n",
        "        actions = ['solved a mystery', 'unraveled a conspiracy', 'cracked a code', 'unveiled a secret']\n",
        "        settings = ['an old mansion', 'a deserted town', 'a dark alley', 'an abandoned warehouse']\n",
        "        obstacles = ['a locked door', 'a hidden message', 'a suspicious character', 'a dark secret']\n",
        "    elif genre == 'fantasy':\n",
        "        actions = ['went on a magical journey', 'fought a dragon', 'saved a kingdom', 'met a wizard']\n",
        "        settings = ['a mystical forest', 'an enchanted castle', 'a hidden village', 'a magical kingdom']\n",
        "        obstacles = ['a wicked sorcerer', 'an evil curse', 'a mythical beast', 'a dark prophecy']\n",
        "    \n",
        "    # Select a random action, setting, and obstacle\n",
        "    action = random.choice(actions)\n",
        "    setting = random.choice(settings)\n",
        "    obstacle = random.choice(obstacles)\n",
        "    \n",
        "    # Generate the story using the input information and the randomly selected action, setting, and obstacle\n",
        "    story = f\"Once upon a time, there was a young {age}-year-old named {name} who lived in {city}. One day, {name} and their trusty sidekick {animal}, {action} in {setting}. But soon, they discovered {obstacle} blocking their path. With quick thinking and bravery, {name} and {animal} overcame the {obstacle} and continued on their {genre} adventure. In the end, they emerged victorious and returned home as heroes!\"\n",
        "    \n",
        "    # Generate an image based on the setting\n",
        "    image_file = f\"{setting.lower().replace(' ', '_')}.jpg\"\n",
        "    img = Image.open(image_file)\n",
        "    img.show()\n",
        "    \n",
        "    return story\n",
        "\n"
      ],
      "metadata": {
        "id": "xlv0Khdl2qL2"
      },
      "execution_count": null,
      "outputs": []
    },
    {
      "cell_type": "markdown",
      "source": [
        "## Use"
      ],
      "metadata": {
        "id": "x4mtJCIt2z_E"
      }
    },
    {
      "cell_type": "code",
      "source": [
        "print(\"Welcome to the Story Generator!\\n\")\n",
        "name = input(\"What is the name of the main character? \")\n",
        "age = input(\"What is the age of the main character? \")\n",
        "city = input(\"In which city does the character live? \")\n",
        "animal = input(\"What is the name of the character's trusty sidekick animal? \")\n",
        "genres = ['adventure', 'mystery', 'fantasy']\n",
        "print(\"Please select a genre for the story:\")\n",
        "for i, genre in enumerate(genres):\n",
        "    print(f\"{i+1}. {genre}\")\n",
        "genre_choice = int(input())\n",
        "genre = genres[genre_choice - 1]\n",
        "\n",
        "# Generate and print the story using the input information\n",
        "story = generate_story(name, age, city, animal, genre)\n",
        "print(\"\\nHere is your story:\\n\")\n",
        "print(story)\n",
        "\n",
        "from google.colab import drive\n",
        "drive.mount('/content/drive')"
      ],
      "metadata": {
        "id": "suOnQQaf21lA"
      },
      "execution_count": null,
      "outputs": []
    },
    {
      "cell_type": "markdown",
      "source": [
        "# Script"
      ],
      "metadata": {
        "id": "gZUx-UY4WETK"
      }
    },
    {
      "cell_type": "code",
      "source": [
        "# Utils Section\n",
        "import random\n",
        "from PIL import Image\n",
        "\n",
        "def generate_story(name, age, city, animal, genre):\n",
        "    # Define possible actions, settings, and obstacles based on genre\n",
        "    if genre == 'adventure':\n",
        "        actions = ['went on an adventure', 'explored a new land', 'faced their fears', 'discovered a hidden treasure']\n",
        "        settings = ['a dense jungle', 'a rugged mountain', 'an uncharted island', 'a wild safari']\n",
        "        obstacles = ['a raging river', 'a dangerous cliff', 'a band of pirates', 'a treacherous storm']\n",
        "    elif genre == 'mystery':\n",
        "        actions = ['solved a mystery', 'unraveled a conspiracy', 'cracked a code', 'unveiled a secret']\n",
        "        settings = ['an old mansion', 'a deserted town', 'a dark alley', 'an abandoned warehouse']\n",
        "        obstacles = ['a locked door', 'a hidden message', 'a suspicious character', 'a dark secret']\n",
        "    elif genre == 'fantasy':\n",
        "        actions = ['went on a magical journey', 'fought a dragon', 'saved a kingdom', 'met a wizard']\n",
        "        settings = ['a mystical forest', 'an enchanted castle', 'a hidden village', 'a magical kingdom']\n",
        "        obstacles = ['a wicked sorcerer', 'an evil curse', 'a mythical beast', 'a dark prophecy']\n",
        "    \n",
        "    # Select a random action, setting, and obstacle\n",
        "    action = random.choice(actions)\n",
        "    setting = random.choice(settings)\n",
        "    obstacle = random.choice(obstacles)\n",
        "    \n",
        "    # Generate the story using the input information and the randomly selected action, setting, and obstacle\n",
        "    story = f\"Once upon a time, there was a young {age}-year-old named {name} who lived in {city}. One day, {name} and their trusty sidekick {animal}, {action} in {setting}. But soon, they discovered {obstacle} blocking their path. With quick thinking and bravery, {name} and {animal} overcame the {obstacle} and continued on their {genre} adventure. In the end, they emerged victorious and returned home as heroes!\"\n",
        "    \n",
        "    # Generate an image based on the setting\n",
        "    image_file = f\"{setting.lower().replace(' ', '_')}.jpg\"\n",
        "    img = Image.open(image_file)\n",
        "    img.show()\n",
        "    \n",
        "    return story\n",
        "\n",
        "\"\"\"# Use\"\"\"\n",
        "\n",
        "# Use Section\n",
        "if __name__ == \"__main__\":\n",
        "    print(\"Welcome to the Story Generator!\\n\")\n",
        "    name = input(\"What is the name of the main character? \")\n",
        "    age = input(\"What is the age of the main character? \")\n",
        "    city = input(\"In which city does the character live? \")\n",
        "    animal = input(\"What is the name of the character's trusty sidekick animal? \")\n",
        "    genres = ['adventure', 'mystery', 'fantasy']\n",
        "    print(\"Please select a genre for the story:\")\n",
        "    for i, genre in enumerate(genres):\n",
        "        print(f\"{i+1}. {genre}\")\n",
        "    genre_choice = int(input())\n",
        "    genre = genres[genre_choice - 1]\n",
        "\n",
        "    # Generate and print the story using the input information\n",
        "    story = generate_story(name, age, city, animal, genre)\n",
        "    print(\"\\nHere is your story:\\n\")\n",
        "    print(story)\n",
        "\n",
        "!pwd\n",
        "\n",
        "!python3 /content/gStory.py\n",
        "\n",
        "mv /content/Core /content/GenerateStory\n",
        "\n",
        "mv /content/gStory.py /content/GenerateStory\n"
      ],
      "metadata": {
        "id": "Re5u6iBTWJwO"
      },
      "execution_count": null,
      "outputs": []
    }
  ],
  "metadata": {
    "colab": {
      "provenance": [],
      "toc_visible": true,
      "include_colab_link": true
    },
    "kernelspec": {
      "display_name": "Python 3",
      "name": "python3"
    }
  },
  "nbformat": 4,
  "nbformat_minor": 0
}